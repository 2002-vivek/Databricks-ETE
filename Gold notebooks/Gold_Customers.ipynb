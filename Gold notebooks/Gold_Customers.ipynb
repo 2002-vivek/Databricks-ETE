{
 "cells": [
  {
   "cell_type": "code",
   "execution_count": 0,
   "metadata": {
    "application/vnd.databricks.v1+cell": {
     "cellMetadata": {
      "byteLimit": 2048000,
      "rowLimit": 10000
     },
     "inputWidgets": {},
     "nuid": "8d6da09d-720e-498a-b42b-6fbc6abf1c86",
     "showTitle": false,
     "tableResultSettingsMap": {},
     "title": ""
    }
   },
   "outputs": [],
   "source": [
    "from pyspark.sql.types import *\n",
    "from pyspark.sql.functions import *\n",
    "from delta.tables import DeltaTable"
   ]
  },
  {
   "cell_type": "code",
   "execution_count": 0,
   "metadata": {
    "application/vnd.databricks.v1+cell": {
     "cellMetadata": {
      "byteLimit": 2048000,
      "rowLimit": 10000
     },
     "inputWidgets": {},
     "nuid": "0c6b312a-b622-4216-8cb3-8c9e0d0d817b",
     "showTitle": false,
     "tableResultSettingsMap": {},
     "title": ""
    }
   },
   "outputs": [],
   "source": [
    "\n",
    "init_load_flag = int(dbutils.widgets.get(\"init_load_flag\"))\n"
   ]
  },
  {
   "cell_type": "code",
   "execution_count": 0,
   "metadata": {
    "application/vnd.databricks.v1+cell": {
     "cellMetadata": {
      "byteLimit": 2048000,
      "rowLimit": 10000
     },
     "inputWidgets": {},
     "nuid": "9a99a658-9ae5-47ac-86ea-f3f5fbd61c48",
     "showTitle": false,
     "tableResultSettingsMap": {},
     "title": ""
    }
   },
   "outputs": [],
   "source": [
    "\n",
    "df = spark.sql(\"select * from databricks_catalog.silver.customers_silver\")\n",
    "df.display()"
   ]
  },
  {
   "cell_type": "code",
   "execution_count": 0,
   "metadata": {
    "application/vnd.databricks.v1+cell": {
     "cellMetadata": {
      "byteLimit": 2048000,
      "rowLimit": 10000
     },
     "inputWidgets": {},
     "nuid": "adedfdbf-bbfe-4c7c-8b5b-dba1bf404cd2",
     "showTitle": false,
     "tableResultSettingsMap": {},
     "title": ""
    }
   },
   "outputs": [],
   "source": [
    "df = df.dropDuplicates(subset=[\"customer_id\"])\n",
    "df.count()"
   ]
  },
  {
   "cell_type": "code",
   "execution_count": 0,
   "metadata": {
    "application/vnd.databricks.v1+cell": {
     "cellMetadata": {
      "byteLimit": 2048000,
      "rowLimit": 10000
     },
     "inputWidgets": {},
     "nuid": "0f8a4270-7cd6-4a68-933e-a0b2512b48e4",
     "showTitle": false,
     "tableResultSettingsMap": {},
     "title": ""
    }
   },
   "outputs": [],
   "source": [
    "\n",
    "if init_load_flag == 0:\n",
    "    df_old = spark.sql('''select DimCustomerKey, customer_id, create_date, update_date from databricks_catalog.gold.DimCustomers''')\n",
    "else:\n",
    "    df_old = spark.sql('''\n",
    "                            select 0 DimCustomersKey , 0 customer_id, 0 create_date, 0 update_date\n",
    "                            from databricks_catalog.silver.customers_silver where 1=0\n",
    "                       ''')\n",
    "display(df_old)"
   ]
  },
  {
   "cell_type": "code",
   "execution_count": 0,
   "metadata": {
    "application/vnd.databricks.v1+cell": {
     "cellMetadata": {
      "byteLimit": 2048000,
      "rowLimit": 10000
     },
     "inputWidgets": {},
     "nuid": "30e954c4-dbfd-4db1-ad1d-2dec7c67f65d",
     "showTitle": false,
     "tableResultSettingsMap": {},
     "title": ""
    }
   },
   "outputs": [],
   "source": [
    "df_old = df_old.withColumnRenamed(\"DimCustomersKey\", \"old_DimCustomerKey\")\\\n",
    "    .withColumnRenamed(\"customer_id\", \"old_customer_id\")\\\n",
    "    .withColumnRenamed(\"create_date\", \"old_create_date\")\\\n",
    "    .withColumnRenamed(\"update_date\", \"old_update_date\")\n"
   ]
  },
  {
   "cell_type": "code",
   "execution_count": 0,
   "metadata": {
    "application/vnd.databricks.v1+cell": {
     "cellMetadata": {
      "byteLimit": 2048000,
      "rowLimit": 10000
     },
     "inputWidgets": {},
     "nuid": "94ea0234-b42f-4e1f-83e6-2c8c3a2ce4c2",
     "showTitle": false,
     "tableResultSettingsMap": {
      "0": {
       "dataGridStateBlob": "{\"version\":1,\"tableState\":{\"columnPinning\":{\"left\":[\"#row_number#\"],\"right\":[]},\"columnSizing\":{},\"columnVisibility\":{}},\"settings\":{\"columns\":{}},\"syncTimestamp\":1757947599854}",
       "filterBlob": null,
       "queryPlanFiltersBlob": null,
       "tableResultIndex": 0
      }
     },
     "title": ""
    }
   },
   "outputs": [],
   "source": [
    "df_join = df.join(df_old, df.customer_id == df_old.old_customer_id, \"left\")\n",
    "display(df_join)"
   ]
  },
  {
   "cell_type": "markdown",
   "metadata": {
    "application/vnd.databricks.v1+cell": {
     "cellMetadata": {
      "byteLimit": 2048000,
      "rowLimit": 10000
     },
     "inputWidgets": {},
     "nuid": "d006aaca-2bb2-4322-b74f-6a9f8cacdd06",
     "showTitle": false,
     "tableResultSettingsMap": {},
     "title": ""
    }
   },
   "source": [
    "**Seperating new vs old Records**"
   ]
  },
  {
   "cell_type": "code",
   "execution_count": 0,
   "metadata": {
    "application/vnd.databricks.v1+cell": {
     "cellMetadata": {
      "byteLimit": 2048000,
      "rowLimit": 10000
     },
     "inputWidgets": {},
     "nuid": "3c2a3c06-b4c3-4d28-bd5a-82e34dc69789",
     "showTitle": false,
     "tableResultSettingsMap": {},
     "title": ""
    }
   },
   "outputs": [],
   "source": [
    "df_old = df_join.filter(df_join[\"old_DimCustomerKey\"].isNotNull())\n",
    "df_new = df_join.filter(df_join[\"old_DimCustomerKey\"].isNull())\n"
   ]
  },
  {
   "cell_type": "markdown",
   "metadata": {
    "application/vnd.databricks.v1+cell": {
     "cellMetadata": {
      "byteLimit": 2048000,
      "rowLimit": 10000
     },
     "inputWidgets": {},
     "nuid": "73c8472d-791d-4d84-8914-0ce26756f63b",
     "showTitle": false,
     "tableResultSettingsMap": {},
     "title": ""
    }
   },
   "source": [
    "**Preparing df_old**"
   ]
  },
  {
   "cell_type": "code",
   "execution_count": 0,
   "metadata": {
    "application/vnd.databricks.v1+cell": {
     "cellMetadata": {
      "byteLimit": 2048000,
      "rowLimit": 10000
     },
     "inputWidgets": {},
     "nuid": "0c99ded2-2620-4879-bead-1ccfd232c0e9",
     "showTitle": false,
     "tableResultSettingsMap": {},
     "title": ""
    }
   },
   "outputs": [],
   "source": [
    "df_old = df_old.drop('old_CustomerKey', 'old_customer_id', 'old_update_date')\n",
    "\n",
    "df_old = df_old.withColumnRenamed(\"old_create_date\", \"create_date\")\\\n",
    "            .withColumnRenamed(\"old_DimCustomerKey\", \"DimCustomerKey\")\n",
    "\n",
    "df_old = df_old.withColumn(\"update_date\", current_timestamp())\n",
    "df_old = df_old.withColumn(\"create_date\", to_timestamp(col(\"create_date\")))\n",
    "\n",
    "df_old.display()"
   ]
  },
  {
   "cell_type": "markdown",
   "metadata": {
    "application/vnd.databricks.v1+cell": {
     "cellMetadata": {
      "byteLimit": 2048000,
      "rowLimit": 10000
     },
     "inputWidgets": {},
     "nuid": "c70c78e6-dc43-4caf-8191-d61f50e832de",
     "showTitle": false,
     "tableResultSettingsMap": {},
     "title": ""
    }
   },
   "source": [
    "**Prepaing df_new**"
   ]
  },
  {
   "cell_type": "code",
   "execution_count": 0,
   "metadata": {
    "application/vnd.databricks.v1+cell": {
     "cellMetadata": {
      "byteLimit": 2048000,
      "rowLimit": 10000
     },
     "inputWidgets": {},
     "nuid": "c27104da-4ceb-436f-a6b5-85bd1aed1501",
     "showTitle": false,
     "tableResultSettingsMap": {
      "0": {
       "dataGridStateBlob": "{\"version\":1,\"tableState\":{\"columnPinning\":{\"left\":[\"#row_number#\"],\"right\":[]},\"columnSizing\":{},\"columnVisibility\":{}},\"settings\":{\"columns\":{}},\"syncTimestamp\":1758030811377}",
       "filterBlob": null,
       "queryPlanFiltersBlob": null,
       "tableResultIndex": 0
      }
     },
     "title": ""
    }
   },
   "outputs": [],
   "source": [
    "df_new = df_new.drop('old_CustomerKey', 'old_customer_id', 'old_update_date', \"old_create_date\", \"old_DimCustomerKey\")\n",
    "\n",
    "df_new = df_new.withColumn(\"update_date\", current_timestamp())\\\n",
    "            .withColumn(\"create_date\", current_timestamp())\n",
    "\n",
    "df_new.display()"
   ]
  },
  {
   "cell_type": "code",
   "execution_count": 0,
   "metadata": {
    "application/vnd.databricks.v1+cell": {
     "cellMetadata": {
      "byteLimit": 2048000,
      "rowLimit": 10000
     },
     "inputWidgets": {},
     "nuid": "b0e2ffec-8d34-4ad2-b058-130eb521edaa",
     "showTitle": false,
     "tableResultSettingsMap": {},
     "title": ""
    }
   },
   "outputs": [],
   "source": [
    "if init_load_flag == 1:\n",
    "    max_surrogate_key = 1\n",
    "else:\n",
    "    df_maxsur = spark.sql(\"select max(DimCustomerKey) as max_surrogate_key from databricks_catalog.gold.DimCustomers\")\n",
    "    max_surrogate_key = df_maxsur.collect()[0]['max_surrogate_key']"
   ]
  },
  {
   "cell_type": "code",
   "execution_count": 0,
   "metadata": {
    "application/vnd.databricks.v1+cell": {
     "cellMetadata": {
      "byteLimit": 2048000,
      "rowLimit": 10000
     },
     "inputWidgets": {},
     "nuid": "8e758a10-c348-4515-b0cd-ac96491f44ea",
     "showTitle": false,
     "tableResultSettingsMap": {},
     "title": ""
    }
   },
   "outputs": [],
   "source": [
    "df_new = df_new.withColumn(\"DimCustomerKey\", monotonically_increasing_id() + lit(max_surrogate_key) )\n",
    "display(df_new)"
   ]
  },
  {
   "cell_type": "code",
   "execution_count": 0,
   "metadata": {
    "application/vnd.databricks.v1+cell": {
     "cellMetadata": {
      "byteLimit": 2048000,
      "rowLimit": 10000
     },
     "inputWidgets": {},
     "nuid": "e75443aa-5e57-4b6e-8dca-4e3062cdc4b2",
     "showTitle": false,
     "tableResultSettingsMap": {
      "0": {
       "dataGridStateBlob": "{\"version\":1,\"tableState\":{\"columnPinning\":{\"left\":[\"#row_number#\"],\"right\":[]},\"columnSizing\":{\"#row_number#\":52},\"columnVisibility\":{}},\"settings\":{\"columns\":{}},\"syncTimestamp\":1758062513506}",
       "filterBlob": null,
       "queryPlanFiltersBlob": null,
       "tableResultIndex": 0
      }
     },
     "title": ""
    }
   },
   "outputs": [],
   "source": [
    "\n",
    "df_final = df_old.unionByName(df_new)\n",
    "display(df_final)"
   ]
  },
  {
   "cell_type": "code",
   "execution_count": 0,
   "metadata": {
    "application/vnd.databricks.v1+cell": {
     "cellMetadata": {
      "byteLimit": 2048000,
      "rowLimit": 10000
     },
     "inputWidgets": {},
     "nuid": "5cd09bb8-3359-4d82-b90e-6a3f939fafcb",
     "showTitle": false,
     "tableResultSettingsMap": {},
     "title": ""
    }
   },
   "outputs": [],
   "source": [
    "if spark.catalog.tableExists(\"databricks_catalog.gold.DimCustomers\"):\n",
    "\n",
    "    dlt_obj = DeltaTable.forPath(spark, \"abfss://gold@etedatabricks01.dfs.core.windows.net/DimCustomers\")\n",
    "    dlt_obj.alias(\"trg\").merge(df_final.alias(\"src\"), \"trg.DimCustomerKey = src.DimCustomerKey\")\\\n",
    "            .whenMatchedUpdateAll()\\\n",
    "            .whenNotMatchedInsertAll()\\\n",
    "            .execute()\n",
    "\n",
    "else:\n",
    "    df_final.write.mode(\"overwrite\").format(\"delta\")\\\n",
    "            .option(\"path\", \"abfss://gold@etedatabricks01.dfs.core.windows.net/DimCustomers\")\\\n",
    "            .saveAsTable(\"databricks_catalog.gold.DimCustomers\")"
   ]
  },
  {
   "cell_type": "code",
   "execution_count": 0,
   "metadata": {
    "application/vnd.databricks.v1+cell": {
     "cellMetadata": {
      "byteLimit": 2048000,
      "rowLimit": 10000
     },
     "inputWidgets": {},
     "nuid": "55d138f6-8682-4efe-a5f7-49202507147b",
     "showTitle": false,
     "tableResultSettingsMap": {},
     "title": ""
    }
   },
   "outputs": [],
   "source": []
  }
 ],
 "metadata": {
  "application/vnd.databricks.v1+notebook": {
   "computePreferences": {
    "hardware": {
     "accelerator": null,
     "gpuPoolId": null,
     "memory": null
    }
   },
   "dashboards": [],
   "environmentMetadata": {
    "base_environment": "",
    "environment_version": "3"
   },
   "inputWidgetPreferences": null,
   "language": "python",
   "notebookMetadata": {
    "mostRecentlyExecutedCommandWithImplicitDF": {
     "commandId": 7940809659435701,
     "dataframes": [
      "_sqldf"
     ]
    },
    "pythonIndentUnit": 4
   },
   "notebookName": "Gold_Customers",
   "widgets": {
    "init_load_flag": {
     "currentValue": "",
     "nuid": "2c49feea-368e-4b79-ac59-f3606c1cb482",
     "typedWidgetInfo": {
      "autoCreated": false,
      "defaultValue": "",
      "label": "1",
      "name": "init_load_flag",
      "options": {
       "widgetDisplayType": "Text",
       "validationRegex": null
      },
      "parameterDataType": "String"
     },
     "widgetInfo": {
      "widgetType": "text",
      "defaultValue": "",
      "label": "1",
      "name": "init_load_flag",
      "options": {
       "widgetType": "text",
       "autoCreated": false,
       "validationRegex": null
      }
     }
    }
   }
  },
  "language_info": {
   "name": "python"
  }
 },
 "nbformat": 4,
 "nbformat_minor": 0
}
